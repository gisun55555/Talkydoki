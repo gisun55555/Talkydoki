version https://git-lfs.github.com/spec/v1
oid sha256:7783a91acb6de7b70fcf9d7a86567580af3628a6476f27adba3ab1c8979e320e
size 248687
