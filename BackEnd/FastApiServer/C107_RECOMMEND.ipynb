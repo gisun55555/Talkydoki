version https://git-lfs.github.com/spec/v1
oid sha256:5d36bfacf79ebfe0bef77b3dca2f36b1b981659128eb6f7d3d9b2cc6a3b85eb0
size 25353
