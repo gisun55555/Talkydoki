version https://git-lfs.github.com/spec/v1
oid sha256:1f2670ad4c51a0bea828a6ed86f110e637105aa2e08653bf9c8262d8296e458f
size 200499
